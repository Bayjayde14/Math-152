{
  "nbformat": 4,
  "nbformat_minor": 0,
  "metadata": {
    "colab": {
      "provenance": [],
      "authorship_tag": "ABX9TyPt5AndJfz3xXv5sauvF52w",
      "include_colab_link": true
    },
    "kernelspec": {
      "name": "python3",
      "display_name": "Python 3"
    },
    "language_info": {
      "name": "python"
    }
  },
  "cells": [
    {
      "cell_type": "markdown",
      "metadata": {
        "id": "view-in-github",
        "colab_type": "text"
      },
      "source": [
        "<a href=\"https://colab.research.google.com/github/Bayjayde14/Math-152/blob/main/Notebook_2_notes.ipynb\" target=\"_parent\"><img src=\"https://colab.research.google.com/assets/colab-badge.svg\" alt=\"Open In Colab\"/></a>"
      ]
    },
    {
      "cell_type": "code",
      "execution_count": 1,
      "metadata": {
        "id": "PAYDhjYtUUv2"
      },
      "outputs": [],
      "source": [
        "def f(x):\n",
        "  return x*x+1"
      ]
    },
    {
      "cell_type": "code",
      "source": [
        "f(2)"
      ],
      "metadata": {
        "colab": {
          "base_uri": "https://localhost:8080/"
        },
        "id": "ukWgzwdTUsL9",
        "outputId": "1fef7e25-8464-46b8-bc2e-866ea6022760"
      },
      "execution_count": 2,
      "outputs": [
        {
          "output_type": "execute_result",
          "data": {
            "text/plain": [
              "5"
            ]
          },
          "metadata": {},
          "execution_count": 2
        }
      ]
    },
    {
      "cell_type": "code",
      "source": [
        "f(f(2))"
      ],
      "metadata": {
        "colab": {
          "base_uri": "https://localhost:8080/"
        },
        "id": "O3qp_1VoU3QQ",
        "outputId": "91039591-2f1b-401d-ed1d-ec322efc6c7d"
      },
      "execution_count": 3,
      "outputs": [
        {
          "output_type": "execute_result",
          "data": {
            "text/plain": [
              "26"
            ]
          },
          "metadata": {},
          "execution_count": 3
        }
      ]
    },
    {
      "cell_type": "code",
      "source": [
        "def g(x):\n",
        "  print(x*x+1)"
      ],
      "metadata": {
        "id": "4OWzZGKkUfxu"
      },
      "execution_count": 4,
      "outputs": []
    },
    {
      "cell_type": "code",
      "source": [
        "g(2)"
      ],
      "metadata": {
        "colab": {
          "base_uri": "https://localhost:8080/"
        },
        "id": "0ctqLWZDVi5s",
        "outputId": "790a9a58-b653-4a52-dea8-a4b7bddcda24"
      },
      "execution_count": 5,
      "outputs": [
        {
          "output_type": "stream",
          "name": "stdout",
          "text": [
            "5\n"
          ]
        }
      ]
    },
    {
      "cell_type": "code",
      "source": [
        "def f(x):\n",
        "  print ('I am goint to square x')\n",
        "  sq = x*x \n",
        "  print('The square is {}'. format (sq))\n",
        "  return sq+1\n",
        "f(2)"
      ],
      "metadata": {
        "colab": {
          "base_uri": "https://localhost:8080/"
        },
        "id": "FwXkU_ZNVzwM",
        "outputId": "6ce6ab10-421a-42c9-dcd2-9290a3c068d1"
      },
      "execution_count": 9,
      "outputs": [
        {
          "output_type": "stream",
          "name": "stdout",
          "text": [
            "I am goint to square x\n",
            "The square is 4\n"
          ]
        },
        {
          "output_type": "execute_result",
          "data": {
            "text/plain": [
              "5"
            ]
          },
          "metadata": {},
          "execution_count": 9
        }
      ]
    },
    {
      "cell_type": "markdown",
      "source": [
        "Python has namespaces. Built-in namespace: 'def', 'type', 'and'\n",
        "\n",
        "gobal namespace: A=3\n",
        "\n",
        "globals ()"
      ],
      "metadata": {
        "id": "nH-iMG6UX54W"
      }
    },
    {
      "cell_type": "code",
      "source": [
        "globals ()"
      ],
      "metadata": {
        "colab": {
          "base_uri": "https://localhost:8080/"
        },
        "id": "z9A4VbiKYPLe",
        "outputId": "2d3aea9d-6da4-49c7-d833-ae1e79526c38"
      },
      "execution_count": 10,
      "outputs": [
        {
          "output_type": "execute_result",
          "data": {
            "text/plain": [
              "{'__name__': '__main__',\n",
              " '__doc__': 'Automatically created module for IPython interactive environment',\n",
              " '__package__': None,\n",
              " '__loader__': None,\n",
              " '__spec__': None,\n",
              " '__builtin__': <module 'builtins' (built-in)>,\n",
              " '__builtins__': <module 'builtins' (built-in)>,\n",
              " '_ih': ['',\n",
              "  'def f(x):\\n  return x*x+1',\n",
              "  'f(2)',\n",
              "  'f(f(2))',\n",
              "  'def g(x):\\n  print(x*x+1)',\n",
              "  'g(2)',\n",
              "  'g(g(2))',\n",
              "  \"def f(x):\\n  print ('I am goint to square x')\\n  sq = x*x \\n  print('The square is {}'. format (sq))\\n  return sq+1\",\n",
              "  \"def f(x):\\n  print ('I am goint to square x')\\n  sq = x*x \\n  print('The square is {}'. format (sq))\\n  return sq+1\\n  f(2)\",\n",
              "  \"def f(x):\\n  print ('I am goint to square x')\\n  sq = x*x \\n  print('The square is {}'. format (sq))\\n  return sq+1\\nf(2)\",\n",
              "  'globals ()'],\n",
              " '_oh': {2: 5, 3: 26, 9: 5},\n",
              " '_dh': ['/content'],\n",
              " 'In': ['',\n",
              "  'def f(x):\\n  return x*x+1',\n",
              "  'f(2)',\n",
              "  'f(f(2))',\n",
              "  'def g(x):\\n  print(x*x+1)',\n",
              "  'g(2)',\n",
              "  'g(g(2))',\n",
              "  \"def f(x):\\n  print ('I am goint to square x')\\n  sq = x*x \\n  print('The square is {}'. format (sq))\\n  return sq+1\",\n",
              "  \"def f(x):\\n  print ('I am goint to square x')\\n  sq = x*x \\n  print('The square is {}'. format (sq))\\n  return sq+1\\n  f(2)\",\n",
              "  \"def f(x):\\n  print ('I am goint to square x')\\n  sq = x*x \\n  print('The square is {}'. format (sq))\\n  return sq+1\\nf(2)\",\n",
              "  'globals ()'],\n",
              " 'Out': {2: 5, 3: 26, 9: 5},\n",
              " 'get_ipython': <bound method InteractiveShell.get_ipython of <google.colab._shell.Shell object at 0x7fe86388afd0>>,\n",
              " 'exit': <IPython.core.autocall.ZMQExitAutocall at 0x7fe860859730>,\n",
              " 'quit': <IPython.core.autocall.ZMQExitAutocall at 0x7fe860859730>,\n",
              " '_': 5,\n",
              " '__': 26,\n",
              " '___': 5,\n",
              " '_i': \"def f(x):\\n  print ('I am goint to square x')\\n  sq = x*x \\n  print('The square is {}'. format (sq))\\n  return sq+1\\nf(2)\",\n",
              " '_ii': \"def f(x):\\n  print ('I am goint to square x')\\n  sq = x*x \\n  print('The square is {}'. format (sq))\\n  return sq+1\\n  f(2)\",\n",
              " '_iii': \"def f(x):\\n  print ('I am goint to square x')\\n  sq = x*x \\n  print('The square is {}'. format (sq))\\n  return sq+1\",\n",
              " '_i1': 'def f(x):\\n  return x*x+1',\n",
              " 'f': <function __main__.f(x)>,\n",
              " '_i2': 'f(2)',\n",
              " '_2': 5,\n",
              " '_i3': 'f(f(2))',\n",
              " '_3': 26,\n",
              " '_i4': 'def g(x):\\n  print(x*x+1)',\n",
              " 'g': <function __main__.g(x)>,\n",
              " '_i5': 'g(2)',\n",
              " '_i6': 'g(g(2))',\n",
              " '_i7': \"def f(x):\\n  print ('I am goint to square x')\\n  sq = x*x \\n  print('The square is {}'. format (sq))\\n  return sq+1\",\n",
              " '_i8': \"def f(x):\\n  print ('I am goint to square x')\\n  sq = x*x \\n  print('The square is {}'. format (sq))\\n  return sq+1\\n  f(2)\",\n",
              " '_i9': \"def f(x):\\n  print ('I am goint to square x')\\n  sq = x*x \\n  print('The square is {}'. format (sq))\\n  return sq+1\\nf(2)\",\n",
              " '_9': 5,\n",
              " '_i10': 'globals ()'}"
            ]
          },
          "metadata": {},
          "execution_count": 10
        }
      ]
    },
    {
      "cell_type": "code",
      "source": [
        "A=3\n",
        "def h(x):\n",
        "  A=5\n",
        "  return A*A\n",
        "h(2)"
      ],
      "metadata": {
        "colab": {
          "base_uri": "https://localhost:8080/"
        },
        "id": "TGQdzSUZYl7I",
        "outputId": "1513d18c-ff00-4fa5-d2f5-141ad8568d2c"
      },
      "execution_count": 12,
      "outputs": [
        {
          "output_type": "execute_result",
          "data": {
            "text/plain": [
              "25"
            ]
          },
          "metadata": {},
          "execution_count": 12
        }
      ]
    },
    {
      "cell_type": "code",
      "source": [
        "print (A)"
      ],
      "metadata": {
        "colab": {
          "base_uri": "https://localhost:8080/"
        },
        "id": "SqNjEWi3ZJsW",
        "outputId": "d0990ee6-f653-4ca3-b252-66c8d5703f7b"
      },
      "execution_count": 13,
      "outputs": [
        {
          "output_type": "stream",
          "name": "stdout",
          "text": [
            "3\n"
          ]
        }
      ]
    },
    {
      "cell_type": "markdown",
      "source": [
        "\"Wrapping"
      ],
      "metadata": {
        "id": "Rf2CzLoNnAXZ"
      }
    }
  ]
}